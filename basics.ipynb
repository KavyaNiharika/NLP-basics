{
  "nbformat": 4,
  "nbformat_minor": 0,
  "metadata": {
    "colab": {
      "name": "basics.ipynb",
      "provenance": []
    },
    "kernelspec": {
      "name": "python3",
      "display_name": "Python 3"
    },
    "language_info": {
      "name": "python"
    }
  },
  "cells": [
    {
      "cell_type": "code",
      "metadata": {
        "id": "RFTusJRt10vk"
      },
      "source": [
        "import numpy as np\n",
        "import pandas as pd\n",
        "import matplotlib.pyplot as plt\n",
        "import seaborn as sn"
      ],
      "execution_count": 1,
      "outputs": []
    },
    {
      "cell_type": "code",
      "metadata": {
        "id": "9iNFH_7a2oqQ"
      },
      "source": [
        "import nltk #importing libraries"
      ],
      "execution_count": 2,
      "outputs": []
    },
    {
      "cell_type": "code",
      "metadata": {
        "colab": {
          "base_uri": "https://localhost:8080/"
        },
        "id": "5JM-cHEL2tmo",
        "outputId": "2e88c7b3-7512-4527-896c-e0d178ee8e57"
      },
      "source": [
        "nltk.download('punkt') #for giving access to nltk libraries"
      ],
      "execution_count": 3,
      "outputs": [
        {
          "output_type": "stream",
          "text": [
            "[nltk_data] Downloading package punkt to /root/nltk_data...\n",
            "[nltk_data]   Unzipping tokenizers/punkt.zip.\n"
          ],
          "name": "stdout"
        },
        {
          "output_type": "execute_result",
          "data": {
            "text/plain": [
              "True"
            ]
          },
          "metadata": {
            "tags": []
          },
          "execution_count": 3
        }
      ]
    },
    {
      "cell_type": "code",
      "metadata": {
        "id": "l0Kmi3u824l_"
      },
      "source": [
        "paragraph='Puneeth Rajkumar (born 17 March 1975), colloquially known as Appu, is an Indian film actor, playback singer, anchor and producer who works primarily in Kannada cinema. He has been a lead actor in 28 films; as a child, he appeared in many films.'"
      ],
      "execution_count": 4,
      "outputs": []
    },
    {
      "cell_type": "code",
      "metadata": {
        "colab": {
          "base_uri": "https://localhost:8080/",
          "height": 69
        },
        "id": "CuN9sspZ3HrM",
        "outputId": "a0d4fbca-ef20-4a5e-f596-2653ad6a3ad0"
      },
      "source": [
        "paragraph #collecting from the website"
      ],
      "execution_count": 5,
      "outputs": [
        {
          "output_type": "execute_result",
          "data": {
            "application/vnd.google.colaboratory.intrinsic+json": {
              "type": "string"
            },
            "text/plain": [
              "'Puneeth Rajkumar (born 17 March 1975), colloquially known as Appu, is an Indian film actor, playback singer, anchor and producer who works primarily in Kannada cinema. He has been a lead actor in 28 films; as a child, he appeared in many films.'"
            ]
          },
          "metadata": {
            "tags": []
          },
          "execution_count": 5
        }
      ]
    },
    {
      "cell_type": "code",
      "metadata": {
        "colab": {
          "base_uri": "https://localhost:8080/"
        },
        "id": "_iJT9uxR3Mcm",
        "outputId": "2aa0ae13-98f5-4a52-895f-fc963c6cc859"
      },
      "source": [
        "len(paragraph)"
      ],
      "execution_count": 6,
      "outputs": [
        {
          "output_type": "execute_result",
          "data": {
            "text/plain": [
              "244"
            ]
          },
          "metadata": {
            "tags": []
          },
          "execution_count": 6
        }
      ]
    },
    {
      "cell_type": "code",
      "metadata": {
        "id": "_FP6Lqgt3PuK"
      },
      "source": [
        "from nltk.tokenize import sent_tokenize #used to form a sentence"
      ],
      "execution_count": 7,
      "outputs": []
    },
    {
      "cell_type": "code",
      "metadata": {
        "id": "yyiz15uY3gZx"
      },
      "source": [
        "sentence=sent_tokenize(paragraph) #converting paragraph into sentence"
      ],
      "execution_count": 9,
      "outputs": []
    },
    {
      "cell_type": "code",
      "metadata": {
        "colab": {
          "base_uri": "https://localhost:8080/"
        },
        "id": "uof0ohUz3nVi",
        "outputId": "3f047dc1-d2ea-43f7-b7c9-92944df49a26"
      },
      "source": [
        "sentence #creating sentence"
      ],
      "execution_count": 10,
      "outputs": [
        {
          "output_type": "execute_result",
          "data": {
            "text/plain": [
              "['Puneeth Rajkumar (born 17 March 1975), colloquially known as Appu, is an Indian film actor, playback singer, anchor and producer who works primarily in Kannada cinema.',\n",
              " 'He has been a lead actor in 28 films; as a child, he appeared in many films.']"
            ]
          },
          "metadata": {
            "tags": []
          },
          "execution_count": 10
        }
      ]
    },
    {
      "cell_type": "code",
      "metadata": {
        "colab": {
          "base_uri": "https://localhost:8080/"
        },
        "id": "SMsKdAvN3zPD",
        "outputId": "253023f8-8abb-47a5-e2fc-45967dfd36c7"
      },
      "source": [
        "len(sentence)"
      ],
      "execution_count": 11,
      "outputs": [
        {
          "output_type": "execute_result",
          "data": {
            "text/plain": [
              "2"
            ]
          },
          "metadata": {
            "tags": []
          },
          "execution_count": 11
        }
      ]
    },
    {
      "cell_type": "code",
      "metadata": {
        "id": "2KXdVBDG32Nd"
      },
      "source": [
        "from nltk.tokenize import word_tokenize"
      ],
      "execution_count": 12,
      "outputs": []
    },
    {
      "cell_type": "code",
      "metadata": {
        "id": "RYBKNSuG39Vo"
      },
      "source": [
        "word=word_tokenize(paragraph)"
      ],
      "execution_count": 14,
      "outputs": []
    },
    {
      "cell_type": "code",
      "metadata": {
        "colab": {
          "base_uri": "https://localhost:8080/"
        },
        "id": "CL3arORS4BuR",
        "outputId": "11855cc5-3f1b-4093-e5cc-606439aacfe9"
      },
      "source": [
        "word #collecting words from paragraph"
      ],
      "execution_count": 16,
      "outputs": [
        {
          "output_type": "execute_result",
          "data": {
            "text/plain": [
              "['Puneeth',\n",
              " 'Rajkumar',\n",
              " '(',\n",
              " 'born',\n",
              " '17',\n",
              " 'March',\n",
              " '1975',\n",
              " ')',\n",
              " ',',\n",
              " 'colloquially',\n",
              " 'known',\n",
              " 'as',\n",
              " 'Appu',\n",
              " ',',\n",
              " 'is',\n",
              " 'an',\n",
              " 'Indian',\n",
              " 'film',\n",
              " 'actor',\n",
              " ',',\n",
              " 'playback',\n",
              " 'singer',\n",
              " ',',\n",
              " 'anchor',\n",
              " 'and',\n",
              " 'producer',\n",
              " 'who',\n",
              " 'works',\n",
              " 'primarily',\n",
              " 'in',\n",
              " 'Kannada',\n",
              " 'cinema',\n",
              " '.',\n",
              " 'He',\n",
              " 'has',\n",
              " 'been',\n",
              " 'a',\n",
              " 'lead',\n",
              " 'actor',\n",
              " 'in',\n",
              " '28',\n",
              " 'films',\n",
              " ';',\n",
              " 'as',\n",
              " 'a',\n",
              " 'child',\n",
              " ',',\n",
              " 'he',\n",
              " 'appeared',\n",
              " 'in',\n",
              " 'many',\n",
              " 'films',\n",
              " '.']"
            ]
          },
          "metadata": {
            "tags": []
          },
          "execution_count": 16
        }
      ]
    },
    {
      "cell_type": "code",
      "metadata": {
        "colab": {
          "base_uri": "https://localhost:8080/"
        },
        "id": "eLt1UFt-4E94",
        "outputId": "20a7373c-3f85-4c6b-c11d-02fb0160cecb"
      },
      "source": [
        "len(word)"
      ],
      "execution_count": 18,
      "outputs": [
        {
          "output_type": "execute_result",
          "data": {
            "text/plain": [
              "53"
            ]
          },
          "metadata": {
            "tags": []
          },
          "execution_count": 18
        }
      ]
    },
    {
      "cell_type": "code",
      "metadata": {
        "id": "d0yPvHf74O1u"
      },
      "source": [
        "cleaning=[word for word in word if word.isalpha()] # cleaning the data"
      ],
      "execution_count": 19,
      "outputs": []
    },
    {
      "cell_type": "code",
      "metadata": {
        "colab": {
          "base_uri": "https://localhost:8080/"
        },
        "id": "aYs2J3lI4vdK",
        "outputId": "65b25fae-012e-4447-ef63-d6f096f9c6d5"
      },
      "source": [
        "cleaning"
      ],
      "execution_count": 20,
      "outputs": [
        {
          "output_type": "execute_result",
          "data": {
            "text/plain": [
              "['Puneeth',\n",
              " 'Rajkumar',\n",
              " 'born',\n",
              " 'March',\n",
              " 'colloquially',\n",
              " 'known',\n",
              " 'as',\n",
              " 'Appu',\n",
              " 'is',\n",
              " 'an',\n",
              " 'Indian',\n",
              " 'film',\n",
              " 'actor',\n",
              " 'playback',\n",
              " 'singer',\n",
              " 'anchor',\n",
              " 'and',\n",
              " 'producer',\n",
              " 'who',\n",
              " 'works',\n",
              " 'primarily',\n",
              " 'in',\n",
              " 'Kannada',\n",
              " 'cinema',\n",
              " 'He',\n",
              " 'has',\n",
              " 'been',\n",
              " 'a',\n",
              " 'lead',\n",
              " 'actor',\n",
              " 'in',\n",
              " 'films',\n",
              " 'as',\n",
              " 'a',\n",
              " 'child',\n",
              " 'he',\n",
              " 'appeared',\n",
              " 'in',\n",
              " 'many',\n",
              " 'films']"
            ]
          },
          "metadata": {
            "tags": []
          },
          "execution_count": 20
        }
      ]
    },
    {
      "cell_type": "code",
      "metadata": {
        "id": "kKukT3lo4yH4"
      },
      "source": [
        "#converting the words into lower"
      ],
      "execution_count": 21,
      "outputs": []
    },
    {
      "cell_type": "code",
      "metadata": {
        "id": "qANHFGpX5Cq3"
      },
      "source": [
        "lowering=[j.lower() for j in cleaning]"
      ],
      "execution_count": 22,
      "outputs": []
    },
    {
      "cell_type": "code",
      "metadata": {
        "colab": {
          "base_uri": "https://localhost:8080/"
        },
        "id": "s-I-XNoh5X7d",
        "outputId": "e670fbee-f3fc-4dc4-fe1b-a6b73ce78109"
      },
      "source": [
        "lowering[:10]"
      ],
      "execution_count": 23,
      "outputs": [
        {
          "output_type": "execute_result",
          "data": {
            "text/plain": [
              "['puneeth',\n",
              " 'rajkumar',\n",
              " 'born',\n",
              " 'march',\n",
              " 'colloquially',\n",
              " 'known',\n",
              " 'as',\n",
              " 'appu',\n",
              " 'is',\n",
              " 'an']"
            ]
          },
          "metadata": {
            "tags": []
          },
          "execution_count": 23
        }
      ]
    },
    {
      "cell_type": "code",
      "metadata": {
        "colab": {
          "base_uri": "https://localhost:8080/"
        },
        "id": "u1jQmq4J5aPC",
        "outputId": "7df76694-5246-4914-af60-9b5eb365d039"
      },
      "source": [
        "nltk.download('stopwords')"
      ],
      "execution_count": 24,
      "outputs": [
        {
          "output_type": "stream",
          "text": [
            "[nltk_data] Downloading package stopwords to /root/nltk_data...\n",
            "[nltk_data]   Unzipping corpora/stopwords.zip.\n"
          ],
          "name": "stdout"
        },
        {
          "output_type": "execute_result",
          "data": {
            "text/plain": [
              "True"
            ]
          },
          "metadata": {
            "tags": []
          },
          "execution_count": 24
        }
      ]
    },
    {
      "cell_type": "code",
      "metadata": {
        "id": "rEwUy9tE5i8T"
      },
      "source": [
        "from nltk.corpus import stopwords"
      ],
      "execution_count": 25,
      "outputs": []
    },
    {
      "cell_type": "code",
      "metadata": {
        "id": "cVS3icOZ5nlv"
      },
      "source": [
        "f=stopwords.words('english')"
      ],
      "execution_count": 26,
      "outputs": []
    },
    {
      "cell_type": "code",
      "metadata": {
        "colab": {
          "base_uri": "https://localhost:8080/"
        },
        "id": "uuJd-tY85tbC",
        "outputId": "cee6dc8c-49a0-4388-e4d6-fe0404800c98"
      },
      "source": [
        "len(f)"
      ],
      "execution_count": 27,
      "outputs": [
        {
          "output_type": "execute_result",
          "data": {
            "text/plain": [
              "179"
            ]
          },
          "metadata": {
            "tags": []
          },
          "execution_count": 27
        }
      ]
    },
    {
      "cell_type": "code",
      "metadata": {
        "colab": {
          "base_uri": "https://localhost:8080/"
        },
        "id": "U5S_WRk75vQ_",
        "outputId": "6d08f7bf-c126-4dc0-e514-9bc9ac885cd1"
      },
      "source": [
        "f[:10]"
      ],
      "execution_count": 28,
      "outputs": [
        {
          "output_type": "execute_result",
          "data": {
            "text/plain": [
              "['i', 'me', 'my', 'myself', 'we', 'our', 'ours', 'ourselves', 'you', \"you're\"]"
            ]
          },
          "metadata": {
            "tags": []
          },
          "execution_count": 28
        }
      ]
    },
    {
      "cell_type": "code",
      "metadata": {
        "id": "HyhGwMZJ5yGh"
      },
      "source": [
        "#removing stopwords from cleaning"
      ],
      "execution_count": 29,
      "outputs": []
    },
    {
      "cell_type": "code",
      "metadata": {
        "id": "KJdFDU0l56IO"
      },
      "source": [
        "perfect_word=[k for k in lowering if not k in f]"
      ],
      "execution_count": 34,
      "outputs": []
    },
    {
      "cell_type": "code",
      "metadata": {
        "colab": {
          "base_uri": "https://localhost:8080/"
        },
        "id": "ne6dA6QH6TEO",
        "outputId": "e0c4a522-2783-43f3-b46d-1f75d8a13baf"
      },
      "source": [
        "perfect_word"
      ],
      "execution_count": 35,
      "outputs": [
        {
          "output_type": "execute_result",
          "data": {
            "text/plain": [
              "['puneeth',\n",
              " 'rajkumar',\n",
              " 'born',\n",
              " 'march',\n",
              " 'colloquially',\n",
              " 'known',\n",
              " 'appu',\n",
              " 'indian',\n",
              " 'film',\n",
              " 'actor',\n",
              " 'playback',\n",
              " 'singer',\n",
              " 'anchor',\n",
              " 'producer',\n",
              " 'works',\n",
              " 'primarily',\n",
              " 'kannada',\n",
              " 'cinema',\n",
              " 'lead',\n",
              " 'actor',\n",
              " 'films',\n",
              " 'child',\n",
              " 'appeared',\n",
              " 'many',\n",
              " 'films']"
            ]
          },
          "metadata": {
            "tags": []
          },
          "execution_count": 35
        }
      ]
    },
    {
      "cell_type": "code",
      "metadata": {
        "colab": {
          "base_uri": "https://localhost:8080/"
        },
        "id": "uHraYRth6aFc",
        "outputId": "e13a4a19-ccbb-4562-f4bc-12420a281b59"
      },
      "source": [
        "len(lowering)"
      ],
      "execution_count": 36,
      "outputs": [
        {
          "output_type": "execute_result",
          "data": {
            "text/plain": [
              "40"
            ]
          },
          "metadata": {
            "tags": []
          },
          "execution_count": 36
        }
      ]
    },
    {
      "cell_type": "code",
      "metadata": {
        "colab": {
          "base_uri": "https://localhost:8080/"
        },
        "id": "68gT0a_m6zRx",
        "outputId": "ea0de0af-0be9-4785-ea54-bbf3885f9e13"
      },
      "source": [
        "len(perfect_word)"
      ],
      "execution_count": 38,
      "outputs": [
        {
          "output_type": "execute_result",
          "data": {
            "text/plain": [
              "25"
            ]
          },
          "metadata": {
            "tags": []
          },
          "execution_count": 38
        }
      ]
    }
  ]
}