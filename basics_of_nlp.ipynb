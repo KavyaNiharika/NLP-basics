{
  "nbformat": 4,
  "nbformat_minor": 0,
  "metadata": {
    "colab": {
      "name": "basics of nlp.ipynb",
      "provenance": []
    },
    "kernelspec": {
      "name": "python3",
      "display_name": "Python 3"
    },
    "language_info": {
      "name": "python"
    }
  },
  "cells": [
    {
      "cell_type": "code",
      "metadata": {
        "id": "n2buzZ5Bs5T8"
      },
      "source": [
        "#importing libraries"
      ],
      "execution_count": 49,
      "outputs": []
    },
    {
      "cell_type": "code",
      "metadata": {
        "id": "EBpHAQb3lBeA"
      },
      "source": [
        "import numpy as np\n",
        "import pandas as pd\n",
        "import matplotlib.pyplot as plt\n",
        "import seaborn as sn"
      ],
      "execution_count": 1,
      "outputs": []
    },
    {
      "cell_type": "code",
      "metadata": {
        "id": "9hQgdm2PlQo3"
      },
      "source": [
        "import nltk #library used to handle the text"
      ],
      "execution_count": 2,
      "outputs": []
    },
    {
      "cell_type": "code",
      "metadata": {
        "colab": {
          "base_uri": "https://localhost:8080/"
        },
        "id": "RXQ4GHdJlSWu",
        "outputId": "80397cda-e838-44ea-8257-8052c06647f9"
      },
      "source": [
        "nltk.download('punkt') # for giving access to nltk library"
      ],
      "execution_count": 3,
      "outputs": [
        {
          "output_type": "stream",
          "text": [
            "[nltk_data] Downloading package punkt to /root/nltk_data...\n",
            "[nltk_data]   Unzipping tokenizers/punkt.zip.\n"
          ],
          "name": "stdout"
        },
        {
          "output_type": "execute_result",
          "data": {
            "text/plain": [
              "True"
            ]
          },
          "metadata": {
            "tags": []
          },
          "execution_count": 3
        }
      ]
    },
    {
      "cell_type": "code",
      "metadata": {
        "id": "6mBVdkGdlpFA"
      },
      "source": [
        "paragraph='OpenCV provides a real-time optimized Computer Vision library, tools, and hardware. It also supports model execution for Machine Learning (ML)'"
      ],
      "execution_count": 4,
      "outputs": []
    },
    {
      "cell_type": "code",
      "metadata": {
        "colab": {
          "base_uri": "https://localhost:8080/",
          "height": 35
        },
        "id": "LHodkmLWmLH9",
        "outputId": "8caf94b2-500f-46dc-cd96-bdbcdb52c0d2"
      },
      "source": [
        "paragraph #collect paragraph from the website"
      ],
      "execution_count": 5,
      "outputs": [
        {
          "output_type": "execute_result",
          "data": {
            "application/vnd.google.colaboratory.intrinsic+json": {
              "type": "string"
            },
            "text/plain": [
              "'OpenCV provides a real-time optimized Computer Vision library, tools, and hardware. It also supports model execution for Machine Learning (ML)'"
            ]
          },
          "metadata": {
            "tags": []
          },
          "execution_count": 5
        }
      ]
    },
    {
      "cell_type": "code",
      "metadata": {
        "colab": {
          "base_uri": "https://localhost:8080/"
        },
        "id": "_MlxEQcvnU_v",
        "outputId": "a6decd86-1b68-4f29-8960-de076caeb37e"
      },
      "source": [
        "len(paragraph) #length of the paragraph"
      ],
      "execution_count": 14,
      "outputs": [
        {
          "output_type": "execute_result",
          "data": {
            "text/plain": [
              "142"
            ]
          },
          "metadata": {
            "tags": []
          },
          "execution_count": 14
        }
      ]
    },
    {
      "cell_type": "code",
      "metadata": {
        "id": "jm-0163MmMqD"
      },
      "source": [
        "from nltk.tokenize import sent_tokenize #sent_tokenize is used to form a sentence from the paragraph"
      ],
      "execution_count": 15,
      "outputs": []
    },
    {
      "cell_type": "code",
      "metadata": {
        "id": "CJT942somTqU"
      },
      "source": [
        "sentence=sent_tokenize(paragraph) # convert paragraph into sentence formation"
      ],
      "execution_count": 16,
      "outputs": []
    },
    {
      "cell_type": "code",
      "metadata": {
        "colab": {
          "base_uri": "https://localhost:8080/"
        },
        "id": "njK2C3RCmqOT",
        "outputId": "50ea0f1b-e448-4ea5-a426-673bbf32b0d7"
      },
      "source": [
        "sentence #creating sentence (converting string to list)"
      ],
      "execution_count": 17,
      "outputs": [
        {
          "output_type": "execute_result",
          "data": {
            "text/plain": [
              "['OpenCV provides a real-time optimized Computer Vision library, tools, and hardware.',\n",
              " 'It also supports model execution for Machine Learning (ML)']"
            ]
          },
          "metadata": {
            "tags": []
          },
          "execution_count": 17
        }
      ]
    },
    {
      "cell_type": "code",
      "metadata": {
        "colab": {
          "base_uri": "https://localhost:8080/"
        },
        "id": "ABdjnckQmrxP",
        "outputId": "1b15125a-5e96-439d-e0bf-6cb1054f40d5"
      },
      "source": [
        "len(sentence) #length of sentence"
      ],
      "execution_count": 18,
      "outputs": [
        {
          "output_type": "execute_result",
          "data": {
            "text/plain": [
              "2"
            ]
          },
          "metadata": {
            "tags": []
          },
          "execution_count": 18
        }
      ]
    },
    {
      "cell_type": "code",
      "metadata": {
        "colab": {
          "base_uri": "https://localhost:8080/",
          "height": 35
        },
        "id": "JWUf0o9anRpP",
        "outputId": "a7fc996e-9588-4c4e-8599-35a7bca2cddd"
      },
      "source": [
        "sentence[1] #taking second row of sentence"
      ],
      "execution_count": 19,
      "outputs": [
        {
          "output_type": "execute_result",
          "data": {
            "application/vnd.google.colaboratory.intrinsic+json": {
              "type": "string"
            },
            "text/plain": [
              "'It also supports model execution for Machine Learning (ML)'"
            ]
          },
          "metadata": {
            "tags": []
          },
          "execution_count": 19
        }
      ]
    },
    {
      "cell_type": "code",
      "metadata": {
        "id": "kFaNp0Ennfzb"
      },
      "source": [
        "from nltk.tokenize import word_tokenize "
      ],
      "execution_count": 20,
      "outputs": []
    },
    {
      "cell_type": "code",
      "metadata": {
        "id": "PN8j_8IWnn0c"
      },
      "source": [
        "words=word_tokenize(paragraph)"
      ],
      "execution_count": 21,
      "outputs": []
    },
    {
      "cell_type": "code",
      "metadata": {
        "colab": {
          "base_uri": "https://localhost:8080/"
        },
        "id": "y8FdqkupnsB6",
        "outputId": "85b817e2-7ec9-496d-8251-fd0c67828fb2"
      },
      "source": [
        "words #collecting words from paragraph"
      ],
      "execution_count": 22,
      "outputs": [
        {
          "output_type": "execute_result",
          "data": {
            "text/plain": [
              "['OpenCV',\n",
              " 'provides',\n",
              " 'a',\n",
              " 'real-time',\n",
              " 'optimized',\n",
              " 'Computer',\n",
              " 'Vision',\n",
              " 'library',\n",
              " ',',\n",
              " 'tools',\n",
              " ',',\n",
              " 'and',\n",
              " 'hardware',\n",
              " '.',\n",
              " 'It',\n",
              " 'also',\n",
              " 'supports',\n",
              " 'model',\n",
              " 'execution',\n",
              " 'for',\n",
              " 'Machine',\n",
              " 'Learning',\n",
              " '(',\n",
              " 'ML',\n",
              " ')']"
            ]
          },
          "metadata": {
            "tags": []
          },
          "execution_count": 22
        }
      ]
    },
    {
      "cell_type": "code",
      "metadata": {
        "colab": {
          "base_uri": "https://localhost:8080/"
        },
        "id": "TvRDhi8tntW7",
        "outputId": "e629dfef-cc3d-4150-b67a-05b359ff792e"
      },
      "source": [
        "len(words)"
      ],
      "execution_count": 23,
      "outputs": [
        {
          "output_type": "execute_result",
          "data": {
            "text/plain": [
              "25"
            ]
          },
          "metadata": {
            "tags": []
          },
          "execution_count": 23
        }
      ]
    },
    {
      "cell_type": "code",
      "metadata": {
        "id": "JAvitOZaoZ2_"
      },
      "source": [
        "cleaning=[i for i in words if i.isalpha()] #from the list compression  just cleaning the data "
      ],
      "execution_count": 28,
      "outputs": []
    },
    {
      "cell_type": "code",
      "metadata": {
        "colab": {
          "base_uri": "https://localhost:8080/"
        },
        "id": "vmBRto0_pOYd",
        "outputId": "703a0b1c-5294-4333-def1-b8ab70496cbe"
      },
      "source": [
        "len(cleaning)"
      ],
      "execution_count": 31,
      "outputs": [
        {
          "output_type": "execute_result",
          "data": {
            "text/plain": [
              "19"
            ]
          },
          "metadata": {
            "tags": []
          },
          "execution_count": 31
        }
      ]
    },
    {
      "cell_type": "code",
      "metadata": {
        "colab": {
          "base_uri": "https://localhost:8080/"
        },
        "id": "2PB-XtvFn2GR",
        "outputId": "fe982b10-beb7-4af4-9b55-015ba6d402fe"
      },
      "source": [
        "words[:10] #only first 10 words printed"
      ],
      "execution_count": 29,
      "outputs": [
        {
          "output_type": "execute_result",
          "data": {
            "text/plain": [
              "['OpenCV',\n",
              " 'provides',\n",
              " 'a',\n",
              " 'real-time',\n",
              " 'optimized',\n",
              " 'Computer',\n",
              " 'Vision',\n",
              " 'library',\n",
              " ',',\n",
              " 'tools']"
            ]
          },
          "metadata": {
            "tags": []
          },
          "execution_count": 29
        }
      ]
    },
    {
      "cell_type": "code",
      "metadata": {
        "id": "4pcp-WDaoB6j"
      },
      "source": [
        "#converting the words into lower using for loop"
      ],
      "execution_count": 30,
      "outputs": []
    },
    {
      "cell_type": "code",
      "metadata": {
        "id": "IVBqU6uvoR0t"
      },
      "source": [
        "lowering=[j.lower() for j in cleaning] #converting capital to small"
      ],
      "execution_count": 32,
      "outputs": []
    },
    {
      "cell_type": "code",
      "metadata": {
        "colab": {
          "base_uri": "https://localhost:8080/"
        },
        "id": "Rd7i0TGypu4z",
        "outputId": "fa526a87-eb4a-41e4-cf93-7c3bdcd0a2e0"
      },
      "source": [
        "lowering[:10]"
      ],
      "execution_count": 35,
      "outputs": [
        {
          "output_type": "execute_result",
          "data": {
            "text/plain": [
              "['opencv',\n",
              " 'provides',\n",
              " 'a',\n",
              " 'optimized',\n",
              " 'computer',\n",
              " 'vision',\n",
              " 'library',\n",
              " 'tools',\n",
              " 'and',\n",
              " 'hardware']"
            ]
          },
          "metadata": {
            "tags": []
          },
          "execution_count": 35
        }
      ]
    },
    {
      "cell_type": "code",
      "metadata": {
        "colab": {
          "base_uri": "https://localhost:8080/"
        },
        "id": "K99WapG3pxQc",
        "outputId": "481a9897-0561-48ef-f70f-71541a446281"
      },
      "source": [
        " nltk.download('stopwords')"
      ],
      "execution_count": 37,
      "outputs": [
        {
          "output_type": "stream",
          "text": [
            "[nltk_data] Downloading package stopwords to /root/nltk_data...\n",
            "[nltk_data]   Unzipping corpora/stopwords.zip.\n"
          ],
          "name": "stdout"
        },
        {
          "output_type": "execute_result",
          "data": {
            "text/plain": [
              "True"
            ]
          },
          "metadata": {
            "tags": []
          },
          "execution_count": 37
        }
      ]
    },
    {
      "cell_type": "code",
      "metadata": {
        "id": "g5ixgv9xqiIP"
      },
      "source": [
        "from nltk.corpus import stopwords"
      ],
      "execution_count": 38,
      "outputs": []
    },
    {
      "cell_type": "code",
      "metadata": {
        "id": "A26WeL3kqqo0"
      },
      "source": [
        "f= stopwords.words('english')"
      ],
      "execution_count": 41,
      "outputs": []
    },
    {
      "cell_type": "code",
      "metadata": {
        "colab": {
          "base_uri": "https://localhost:8080/"
        },
        "id": "qfuZKk3Sq9_H",
        "outputId": "280a32f2-c8ca-4f2f-bc84-443532357590"
      },
      "source": [
        "len(f)"
      ],
      "execution_count": 42,
      "outputs": [
        {
          "output_type": "execute_result",
          "data": {
            "text/plain": [
              "179"
            ]
          },
          "metadata": {
            "tags": []
          },
          "execution_count": 42
        }
      ]
    },
    {
      "cell_type": "code",
      "metadata": {
        "colab": {
          "base_uri": "https://localhost:8080/"
        },
        "id": "_DxRln6or9E8",
        "outputId": "24019c16-6f05-4f3b-cb89-c6846d443369"
      },
      "source": [
        "f[:10]"
      ],
      "execution_count": 43,
      "outputs": [
        {
          "output_type": "execute_result",
          "data": {
            "text/plain": [
              "['i', 'me', 'my', 'myself', 'we', 'our', 'ours', 'ourselves', 'you', \"you're\"]"
            ]
          },
          "metadata": {
            "tags": []
          },
          "execution_count": 43
        }
      ]
    },
    {
      "cell_type": "code",
      "metadata": {
        "id": "tSgWjtl7uOsi"
      },
      "source": [
        "## for removing the stopwords from the cleaning variable "
      ],
      "execution_count": 50,
      "outputs": []
    },
    {
      "cell_type": "code",
      "metadata": {
        "id": "kE40UrpVr_-C"
      },
      "source": [
        "perfect_words=[k for k in lowering if not k in f]"
      ],
      "execution_count": 46,
      "outputs": []
    },
    {
      "cell_type": "code",
      "metadata": {
        "colab": {
          "base_uri": "https://localhost:8080/"
        },
        "id": "kmb-g_aysM1i",
        "outputId": "3c620349-556f-4bf6-d72d-df8b37618757"
      },
      "source": [
        "len(lowering) #finding the length of normal data "
      ],
      "execution_count": 47,
      "outputs": [
        {
          "output_type": "execute_result",
          "data": {
            "text/plain": [
              "19"
            ]
          },
          "metadata": {
            "tags": []
          },
          "execution_count": 47
        }
      ]
    },
    {
      "cell_type": "code",
      "metadata": {
        "colab": {
          "base_uri": "https://localhost:8080/"
        },
        "id": "xkgFv4PZsX1R",
        "outputId": "2c0c962e-2e93-48f0-80a7-2ef033cbb9a0"
      },
      "source": [
        "len(perfect_words) #finding the length of checked stopwords data . "
      ],
      "execution_count": 48,
      "outputs": [
        {
          "output_type": "execute_result",
          "data": {
            "text/plain": [
              "15"
            ]
          },
          "metadata": {
            "tags": []
          },
          "execution_count": 48
        }
      ]
    },
    {
      "cell_type": "code",
      "metadata": {
        "colab": {
          "base_uri": "https://localhost:8080/"
        },
        "id": "CkRqirgvscqM",
        "outputId": "f5ce2ebf-e50a-4b14-952a-416e2868c358"
      },
      "source": [
        "perfect_words"
      ],
      "execution_count": 51,
      "outputs": [
        {
          "output_type": "execute_result",
          "data": {
            "text/plain": [
              "['opencv',\n",
              " 'provides',\n",
              " 'optimized',\n",
              " 'computer',\n",
              " 'vision',\n",
              " 'library',\n",
              " 'tools',\n",
              " 'hardware',\n",
              " 'also',\n",
              " 'supports',\n",
              " 'model',\n",
              " 'execution',\n",
              " 'machine',\n",
              " 'learning',\n",
              " 'ml']"
            ]
          },
          "metadata": {
            "tags": []
          },
          "execution_count": 51
        }
      ]
    },
    {
      "cell_type": "code",
      "metadata": {
        "id": "5CklxhQwuRw6"
      },
      "source": [
        ""
      ],
      "execution_count": null,
      "outputs": []
    }
  ]
}